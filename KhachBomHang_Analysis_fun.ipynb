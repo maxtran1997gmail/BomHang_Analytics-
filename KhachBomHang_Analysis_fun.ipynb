{
  "nbformat": 4,
  "nbformat_minor": 0,
  "metadata": {
    "colab": {
      "provenance": []
    },
    "kernelspec": {
      "name": "python3",
      "display_name": "Python 3"
    },
    "language_info": {
      "name": "python"
    }
  },
  "cells": [
    {
      "cell_type": "code",
      "execution_count": null,
      "metadata": {
        "id": "JI28BV6uChDU"
      },
      "outputs": [],
      "source": [
        "import pandas as pd\n",
        "import datetime\n",
        "import seaborn as sns\n",
        "import matplotlib.pyplot as plt"
      ]
    },
    {
      "cell_type": "code",
      "source": [
        "def process_date_data(df):\n",
        "  df['Date'] = ''\n",
        "  for i in range(len(df['Dấu thời gian'])):\n",
        "    a = datetime.datetime.strptime(df['Dấu thời gian'].to_list()[i],'%d/%m/%Y %H:%M:%S')\n",
        "    a = a.strftime('%Y-%m-%d')\n",
        "    df.at[i,'Date'] = a \n",
        "  return df "
      ],
      "metadata": {
        "id": "prorGLDFjgOC"
      },
      "execution_count": null,
      "outputs": []
    },
    {
      "cell_type": "code",
      "source": [
        "def process_city_data(df):\n",
        "  df['City'] = ''\n",
        "  for i in range(len(df['City'])):\n",
        "    a = df['Địa chỉ'][i].split()\n",
        "    if a[-1] == 'TPHCM' \\\n",
        "      or a[-1] == 'Minh,TPHCM' \\\n",
        "      or a[-1] == 'tphcm' \\\n",
        "      or a[-1] == 'minh' \\\n",
        "      or a[-1] == 'Minh' \\\n",
        "      or a[-1] == 'HCM,TPHCM' \\\n",
        "      or a[-1] == 'hcm' \\\n",
        "      or a[-1] == 'MINH': \n",
        "      df.at[i,'City'] = 'TPHCM'\n",
        "      continue \n",
        "    elif len(a) == 2:\n",
        "      a = a[0] + ' ' + a[1]\n",
        "      a = a.upper()\n",
        "      df.at[i,'City'] = a\n",
        "      continue \n",
        "    elif len(a) > 2 :\n",
        "     a = a[-2:]\n",
        "     a = a[0] + ' ' + a[1]\n",
        "     a = a.upper()\n",
        "     df.at[i,'City'] = a \n",
        "    elif len(a) < 2 :\n",
        "      a = a[0]\n",
        "      a = a.upper()\n",
        "      df.at[i,'City'] = a \n",
        "  for i in range(len(df['City'])):\n",
        "    a = df['City'][i].split(',')\n",
        "    a = a[-1]\n",
        "    df.at[i,'City'] = a \n",
        "  for i in range(len(df['City'])):\n",
        "    a = df['City'][i].split('.')\n",
        "    a = a[-1]\n",
        "    df.at[i,'City'] = a \n",
        "  return df "
      ],
      "metadata": {
        "id": "ye5n321ejsFs"
      },
      "execution_count": null,
      "outputs": []
    },
    {
      "cell_type": "code",
      "source": [
        "def process_phone_data(df):\n",
        "  df['Số điện thoại'] = df['Số điện thoại'].fillna(0)\n",
        "  for i in range(len(df['Số điện thoại'])):\n",
        "    a = str(df['Số điện thoại'][i])\n",
        "    a = a.split('|')\n",
        "    a = a[0]\n",
        "    if a[0] != '0':\n",
        "      df.at[i,'Số điện thoại'] = '0' + a\n",
        "    else : \n",
        "      df.at[i,'Số điện thoại'] = a \n",
        "  return df"
      ],
      "metadata": {
        "id": "szipVFW0d5O3"
      },
      "execution_count": null,
      "outputs": []
    },
    {
      "cell_type": "code",
      "source": [
        "def process_provider_data(df):\n",
        "  df['ISP_Provider'] = ''\n",
        "  for i in range(len(df['Số điện thoại'])):\n",
        "    if df['Số điện thoại'][i] == '0':\n",
        "      df.at[i,'ISP_Provider'] = 'Other'\n",
        "    elif df['Số điện thoại'][i][:3] in ['086','096','097','098','032','033','034','035','036','037','038','039']:\n",
        "      df.at[i,'ISP_Provider'] = 'Viettel'\n",
        "    elif df['Số điện thoại'][i][:3] in ['070','079','077','076','078','089','090','093']:\n",
        "      df.at[i,'ISP_Provider'] = 'Mobifone'\n",
        "    elif df['Số điện thoại'][i][:3] in ['081','082','083','084','085','091','088','091','094']:\n",
        "      df.at[i,'ISP_Provider'] = 'Vinaphone'\n",
        "    else :\n",
        "      df.at[i,'ISP_Provider'] = 'Other'\n",
        "  return df "
      ],
      "metadata": {
        "id": "jB1HA_sklRgz"
      },
      "execution_count": null,
      "outputs": []
    },
    {
      "cell_type": "code",
      "source": [
        "def main_task():\n",
        "  df = retrieve_data()\n",
        "  df = process_date_data(df)\n",
        "  df = process_city_data(df)\n",
        "  df = process_phone_data(df)\n",
        "  df = process_provider_data(df)\n",
        "  df = df[['Date','Tên','Lý do khách bom hàng','City','ISP_Provider']]\n",
        "  df = process_reasons_data(df)\n",
        "  return df"
      ],
      "metadata": {
        "id": "tkuis4hdlo8r"
      },
      "execution_count": null,
      "outputs": []
    },
    {
      "cell_type": "code",
      "source": [
        "def process_reasons_data(df):\n",
        "  df['Reasons'] = ''\n",
        "  for i in range(len(df['Lý do khách bom hàng'])):\n",
        "    a = df['Lý do khách bom hàng'].str.split()[i]\n",
        "    if 'chặn' in a or 'Chặn' in a or 'CHẶN' in a or 'máy' in a:\n",
        "      df.at[i,'Reasons'] = 'Chặn số'\n",
        "    elif 'sang' in a or 'Sang' in a or 'SANG' in a or 'vui' in a or 'dui' in a or 'xem' in a or 'coi' in a:\n",
        "      df.at[i,'Reasons'] = 'Đặt cho vui'\n",
        "    elif 'dcm' in a or 'đcm' in a or 'đ' in a or 'chó' in a or 'con' in a or 'CHÓ' in a or 'dạy' in a or 'Dạy' in a or 'DẠY' in a or 'hẹn' in a or 'Hẹn' in a or 'nhiều' in a or 'Hãm' in a or 'HÃM' in a:\n",
        "      df.at[i,'Reasons'] = 'Cố tình nhây , hành shipper'\n",
        "    elif 'thích' in a or 'Thích' in a or 'ưng' in a:\n",
        "      df.at[i,'Reasons'] = 'Không thích nên không nhận'\n",
        "    elif 'nứng' in a or 'dái' in a or 'hãm' in a or 'chuyên' in a or 'nl' in a or 'xấu' in a or 'lol' in a or 'ngu' in a or 'Thánh' in a or 'thánh' in a or 'loz' in a or 'trùm' in a or 'Trùm' in a:\n",
        "      df.at[i,'Reasons'] = 'Chuyên gia bom hàng'\n",
        "    elif 'bom' in a or 'BOM' in a or 'Bom' in a :\n",
        "      df.at[i,'Reasons'] = 'Cố tình bom không lý do'\n",
        "    elif 'tiền' or 'Tiền' or 'TIỀN' in a :\n",
        "      df.at[i,'Reasons'] ='Không có tiền'\n",
        "    else: df.at[i,'Reasons'] = 'Other'\n",
        "  return df\n"
      ],
      "metadata": {
        "id": "3T_zwBtslyd8"
      },
      "execution_count": null,
      "outputs": []
    },
    {
      "cell_type": "code",
      "source": [
        "df = main_task()"
      ],
      "metadata": {
        "id": "7vLgHngjk_cG"
      },
      "execution_count": null,
      "outputs": []
    },
    {
      "cell_type": "code",
      "source": [
        "df.head(10)"
      ],
      "metadata": {
        "colab": {
          "base_uri": "https://localhost:8080/",
          "height": 363
        },
        "id": "SxUQTTug0Fs0",
        "outputId": "103f6890-4069-4003-b517-ddaf80592bce"
      },
      "execution_count": null,
      "outputs": [
        {
          "output_type": "execute_result",
          "data": {
            "text/plain": [
              "         Date                 Tên  \\\n",
              "0  2020-06-28                 anh   \n",
              "1  2020-06-28                 tài   \n",
              "2  2020-06-27               giang   \n",
              "3  2020-06-27               giang   \n",
              "4  2020-06-25               Chinh   \n",
              "5  2020-06-22    nguyễn nam dũng    \n",
              "6  2020-06-12           Thư Huỳnh   \n",
              "7  2020-06-11        Bui Quoc Dat   \n",
              "8  2020-06-11  nguyễn thị hồng   \n",
              "9  2020-06-04            thanh tú   \n",
              "\n",
              "                                Lý do khách bom hàng        City ISP_Provider  \\\n",
              "0                                     chặn số shiper   NINH BÌNH     Mobifone   \n",
              "1                 đặt cho sang thôi chứ ko nhận hàng     YÊN BÁI      Viettel   \n",
              "2                                       ko nhận hàng   SÓC TRĂNG      Viettel   \n",
              "3                                       ko nhận hàng   SÓC TRĂNG      Viettel   \n",
              "4  THẰNG CHÓ NÀY ĐẶT MUA XONG VỀ K ƯNG, TỪ CHỐI M...    BAC NINH     Mobifone   \n",
              "5                                  đặt cho sang mõm   BÌNH PHƯỚC    Vinaphone   \n",
              "6                          Thích thì không nhận thôi     BẾN TRE    Vinaphone   \n",
              "7                                     đặt mà ko nhận  BÌNH DƯƠNG      Viettel   \n",
              "8                                     đặt mà ko nhận       TPHCM      Viettel   \n",
              "9                                           bom hàng       TPHCM     Mobifone   \n",
              "\n",
              "                       Reasons  \n",
              "0                      Chặn số  \n",
              "1                  Đặt cho vui  \n",
              "2                Không có tiền  \n",
              "3                Không có tiền  \n",
              "4  Cố tình nhây , hành shipper  \n",
              "5                  Đặt cho vui  \n",
              "6   Không thích nên không nhận  \n",
              "7                Không có tiền  \n",
              "8                Không có tiền  \n",
              "9      Cố tình bom không lý do  "
            ],
            "text/html": [
              "\n",
              "  <div id=\"df-6ed507a6-c281-4a01-b879-4ecaf518e0c2\">\n",
              "    <div class=\"colab-df-container\">\n",
              "      <div>\n",
              "<style scoped>\n",
              "    .dataframe tbody tr th:only-of-type {\n",
              "        vertical-align: middle;\n",
              "    }\n",
              "\n",
              "    .dataframe tbody tr th {\n",
              "        vertical-align: top;\n",
              "    }\n",
              "\n",
              "    .dataframe thead th {\n",
              "        text-align: right;\n",
              "    }\n",
              "</style>\n",
              "<table border=\"1\" class=\"dataframe\">\n",
              "  <thead>\n",
              "    <tr style=\"text-align: right;\">\n",
              "      <th></th>\n",
              "      <th>Date</th>\n",
              "      <th>Tên</th>\n",
              "      <th>Lý do khách bom hàng</th>\n",
              "      <th>City</th>\n",
              "      <th>ISP_Provider</th>\n",
              "      <th>Reasons</th>\n",
              "    </tr>\n",
              "  </thead>\n",
              "  <tbody>\n",
              "    <tr>\n",
              "      <th>0</th>\n",
              "      <td>2020-06-28</td>\n",
              "      <td>anh</td>\n",
              "      <td>chặn số shiper</td>\n",
              "      <td>NINH BÌNH</td>\n",
              "      <td>Mobifone</td>\n",
              "      <td>Chặn số</td>\n",
              "    </tr>\n",
              "    <tr>\n",
              "      <th>1</th>\n",
              "      <td>2020-06-28</td>\n",
              "      <td>tài</td>\n",
              "      <td>đặt cho sang thôi chứ ko nhận hàng</td>\n",
              "      <td>YÊN BÁI</td>\n",
              "      <td>Viettel</td>\n",
              "      <td>Đặt cho vui</td>\n",
              "    </tr>\n",
              "    <tr>\n",
              "      <th>2</th>\n",
              "      <td>2020-06-27</td>\n",
              "      <td>giang</td>\n",
              "      <td>ko nhận hàng</td>\n",
              "      <td>SÓC TRĂNG</td>\n",
              "      <td>Viettel</td>\n",
              "      <td>Không có tiền</td>\n",
              "    </tr>\n",
              "    <tr>\n",
              "      <th>3</th>\n",
              "      <td>2020-06-27</td>\n",
              "      <td>giang</td>\n",
              "      <td>ko nhận hàng</td>\n",
              "      <td>SÓC TRĂNG</td>\n",
              "      <td>Viettel</td>\n",
              "      <td>Không có tiền</td>\n",
              "    </tr>\n",
              "    <tr>\n",
              "      <th>4</th>\n",
              "      <td>2020-06-25</td>\n",
              "      <td>Chinh</td>\n",
              "      <td>THẰNG CHÓ NÀY ĐẶT MUA XONG VỀ K ƯNG, TỪ CHỐI M...</td>\n",
              "      <td>BAC NINH</td>\n",
              "      <td>Mobifone</td>\n",
              "      <td>Cố tình nhây , hành shipper</td>\n",
              "    </tr>\n",
              "    <tr>\n",
              "      <th>5</th>\n",
              "      <td>2020-06-22</td>\n",
              "      <td>nguyễn nam dũng</td>\n",
              "      <td>đặt cho sang mõm</td>\n",
              "      <td>BÌNH PHƯỚC</td>\n",
              "      <td>Vinaphone</td>\n",
              "      <td>Đặt cho vui</td>\n",
              "    </tr>\n",
              "    <tr>\n",
              "      <th>6</th>\n",
              "      <td>2020-06-12</td>\n",
              "      <td>Thư Huỳnh</td>\n",
              "      <td>Thích thì không nhận thôi</td>\n",
              "      <td>BẾN TRE</td>\n",
              "      <td>Vinaphone</td>\n",
              "      <td>Không thích nên không nhận</td>\n",
              "    </tr>\n",
              "    <tr>\n",
              "      <th>7</th>\n",
              "      <td>2020-06-11</td>\n",
              "      <td>Bui Quoc Dat</td>\n",
              "      <td>đặt mà ko nhận</td>\n",
              "      <td>BÌNH DƯƠNG</td>\n",
              "      <td>Viettel</td>\n",
              "      <td>Không có tiền</td>\n",
              "    </tr>\n",
              "    <tr>\n",
              "      <th>8</th>\n",
              "      <td>2020-06-11</td>\n",
              "      <td>nguyễn thị hồng</td>\n",
              "      <td>đặt mà ko nhận</td>\n",
              "      <td>TPHCM</td>\n",
              "      <td>Viettel</td>\n",
              "      <td>Không có tiền</td>\n",
              "    </tr>\n",
              "    <tr>\n",
              "      <th>9</th>\n",
              "      <td>2020-06-04</td>\n",
              "      <td>thanh tú</td>\n",
              "      <td>bom hàng</td>\n",
              "      <td>TPHCM</td>\n",
              "      <td>Mobifone</td>\n",
              "      <td>Cố tình bom không lý do</td>\n",
              "    </tr>\n",
              "  </tbody>\n",
              "</table>\n",
              "</div>\n",
              "      <button class=\"colab-df-convert\" onclick=\"convertToInteractive('df-6ed507a6-c281-4a01-b879-4ecaf518e0c2')\"\n",
              "              title=\"Convert this dataframe to an interactive table.\"\n",
              "              style=\"display:none;\">\n",
              "        \n",
              "  <svg xmlns=\"http://www.w3.org/2000/svg\" height=\"24px\"viewBox=\"0 0 24 24\"\n",
              "       width=\"24px\">\n",
              "    <path d=\"M0 0h24v24H0V0z\" fill=\"none\"/>\n",
              "    <path d=\"M18.56 5.44l.94 2.06.94-2.06 2.06-.94-2.06-.94-.94-2.06-.94 2.06-2.06.94zm-11 1L8.5 8.5l.94-2.06 2.06-.94-2.06-.94L8.5 2.5l-.94 2.06-2.06.94zm10 10l.94 2.06.94-2.06 2.06-.94-2.06-.94-.94-2.06-.94 2.06-2.06.94z\"/><path d=\"M17.41 7.96l-1.37-1.37c-.4-.4-.92-.59-1.43-.59-.52 0-1.04.2-1.43.59L10.3 9.45l-7.72 7.72c-.78.78-.78 2.05 0 2.83L4 21.41c.39.39.9.59 1.41.59.51 0 1.02-.2 1.41-.59l7.78-7.78 2.81-2.81c.8-.78.8-2.07 0-2.86zM5.41 20L4 18.59l7.72-7.72 1.47 1.35L5.41 20z\"/>\n",
              "  </svg>\n",
              "      </button>\n",
              "      \n",
              "  <style>\n",
              "    .colab-df-container {\n",
              "      display:flex;\n",
              "      flex-wrap:wrap;\n",
              "      gap: 12px;\n",
              "    }\n",
              "\n",
              "    .colab-df-convert {\n",
              "      background-color: #E8F0FE;\n",
              "      border: none;\n",
              "      border-radius: 50%;\n",
              "      cursor: pointer;\n",
              "      display: none;\n",
              "      fill: #1967D2;\n",
              "      height: 32px;\n",
              "      padding: 0 0 0 0;\n",
              "      width: 32px;\n",
              "    }\n",
              "\n",
              "    .colab-df-convert:hover {\n",
              "      background-color: #E2EBFA;\n",
              "      box-shadow: 0px 1px 2px rgba(60, 64, 67, 0.3), 0px 1px 3px 1px rgba(60, 64, 67, 0.15);\n",
              "      fill: #174EA6;\n",
              "    }\n",
              "\n",
              "    [theme=dark] .colab-df-convert {\n",
              "      background-color: #3B4455;\n",
              "      fill: #D2E3FC;\n",
              "    }\n",
              "\n",
              "    [theme=dark] .colab-df-convert:hover {\n",
              "      background-color: #434B5C;\n",
              "      box-shadow: 0px 1px 3px 1px rgba(0, 0, 0, 0.15);\n",
              "      filter: drop-shadow(0px 1px 2px rgba(0, 0, 0, 0.3));\n",
              "      fill: #FFFFFF;\n",
              "    }\n",
              "  </style>\n",
              "\n",
              "      <script>\n",
              "        const buttonEl =\n",
              "          document.querySelector('#df-6ed507a6-c281-4a01-b879-4ecaf518e0c2 button.colab-df-convert');\n",
              "        buttonEl.style.display =\n",
              "          google.colab.kernel.accessAllowed ? 'block' : 'none';\n",
              "\n",
              "        async function convertToInteractive(key) {\n",
              "          const element = document.querySelector('#df-6ed507a6-c281-4a01-b879-4ecaf518e0c2');\n",
              "          const dataTable =\n",
              "            await google.colab.kernel.invokeFunction('convertToInteractive',\n",
              "                                                     [key], {});\n",
              "          if (!dataTable) return;\n",
              "\n",
              "          const docLinkHtml = 'Like what you see? Visit the ' +\n",
              "            '<a target=\"_blank\" href=https://colab.research.google.com/notebooks/data_table.ipynb>data table notebook</a>'\n",
              "            + ' to learn more about interactive tables.';\n",
              "          element.innerHTML = '';\n",
              "          dataTable['output_type'] = 'display_data';\n",
              "          await google.colab.output.renderOutput(dataTable, element);\n",
              "          const docLink = document.createElement('div');\n",
              "          docLink.innerHTML = docLinkHtml;\n",
              "          element.appendChild(docLink);\n",
              "        }\n",
              "      </script>\n",
              "    </div>\n",
              "  </div>\n",
              "  "
            ]
          },
          "metadata": {},
          "execution_count": 179
        }
      ]
    },
    {
      "cell_type": "code",
      "source": [
        "df['Reasons'].value_counts().plot(kind='barh')\n",
        "plt.title('Top các lý do bom hàng')"
      ],
      "metadata": {
        "colab": {
          "base_uri": "https://localhost:8080/",
          "height": 298
        },
        "id": "Yrltc48Ql2j7",
        "outputId": "d81995ab-ffbe-456c-8c11-c62ff6559a07"
      },
      "execution_count": null,
      "outputs": [
        {
          "output_type": "execute_result",
          "data": {
            "text/plain": [
              "Text(0.5, 1.0, 'Top các lý do bom hàng')"
            ]
          },
          "metadata": {},
          "execution_count": 176
        },
        {
          "output_type": "display_data",
          "data": {
            "text/plain": [
              "<Figure size 432x288 with 1 Axes>"
            ],
            "image/png": "[encoded data removed]"
          },
          "metadata": {
            "needs_background": "light"
          }
        }
      ]
    },
    {
      "cell_type": "code",
      "source": [
        "df['City'].value_counts()[0:9].plot(kind='barh')\n",
        "plt.title('Top 10 tỉnh thành có lượt bom hàng nhiều nhất')\n"
      ],
      "metadata": {
        "colab": {
          "base_uri": "https://localhost:8080/",
          "height": 299
        },
        "id": "kdZjDscWy0Cx",
        "outputId": "b4cb91b0-0c25-44e4-cb8f-9ac7d80760c0"
      },
      "execution_count": null,
      "outputs": [
        {
          "output_type": "execute_result",
          "data": {
            "text/plain": [
              "Text(0.5, 1.0, 'Top 10 tỉnh thành có lượt bom hàng nhiều nhất')"
            ]
          },
          "metadata": {},
          "execution_count": 175
        },
        {
          "output_type": "display_data",
          "data": {
            "text/plain": [
              "<Figure size 432x288 with 1 Axes>"
            ],
            "image/png": "[encoded data removed]"
          },
          "metadata": {
            "needs_background": "light"
          }
        }
      ]
    },
    {
      "cell_type": "code",
      "source": [
        "df['ISP_Provider'].value_counts().plot(kind='barh')\n",
        "plt.title('Top nhà mạng có nhiều người bom hàng nhất')"
      ],
      "metadata": {
        "colab": {
          "base_uri": "https://localhost:8080/",
          "height": 299
        },
        "id": "Ab3HHl9Jz3TV",
        "outputId": "ed46343b-5b4a-42b7-adcd-9dbbdb6d4679"
      },
      "execution_count": null,
      "outputs": [
        {
          "output_type": "execute_result",
          "data": {
            "text/plain": [
              "Text(0.5, 1.0, 'Top nhà mạng có nhiều người bom hàng nhất')"
            ]
          },
          "metadata": {},
          "execution_count": 178
        },
        {
          "output_type": "display_data",
          "data": {
            "text/plain": [
              "<Figure size 432x288 with 1 Axes>"
            ],
            "image/png": "[encoded data removed]"
          },
          "metadata": {
            "needs_background": "light"
          }
        }
      ]
    },
    {
      "cell_type": "code",
      "source": [
        "df[['City','Reasons']].value_counts()[0:9].plot(kind='barh')\n",
        "plt.title('Top các lý do bom hàng theo tỉnh thành')"
      ],
      "metadata": {
        "colab": {
          "base_uri": "https://localhost:8080/",
          "height": 298
        },
        "id": "Fd7D_uVJ0xSJ",
        "outputId": "f3881637-c834-4699-ab1f-d0049b8aeab2"
      },
      "execution_count": null,
      "outputs": [
        {
          "output_type": "execute_result",
          "data": {
            "text/plain": [
              "Text(0.5, 1.0, 'Top các lý do bom hàng theo tỉnh thành')"
            ]
          },
          "metadata": {},
          "execution_count": 190
        },
        {
          "output_type": "display_data",
          "data": {
            "text/plain": [
              "<Figure size 432x288 with 1 Axes>"
            ],
            "image/png": "[encoded data removed]"
          },
          "metadata": {
            "needs_background": "light"
          }
        }
      ]
    },
    {
      "cell_type": "code",
      "source": [
        "df.to_csv('data_bomhang.csv',header=True)"
      ],
      "metadata": {
        "id": "SzfPR_XsyS6T"
      },
      "execution_count": null,
      "outputs": []
    }
  ]
}